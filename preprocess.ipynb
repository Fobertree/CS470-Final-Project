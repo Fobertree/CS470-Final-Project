{
 "cells": [
  {
   "cell_type": "code",
   "execution_count": 1,
   "id": "b2fcf89a",
   "metadata": {},
   "outputs": [],
   "source": [
    "import pandas as pd\n",
    "import numpy as np\n",
    "from sklearn.preprocessing import StandardScaler\n",
    "from sklearn.model_selection import train_test_split, GridSearchCV, RandomizedSearchCV\n",
    "from sklearn.metrics import (\n",
    "    f1_score,\n",
    "    roc_auc_score,\n",
    "    roc_curve,\n",
    "    average_precision_score\n",
    ")\n",
    "from sklearn.linear_model import LogisticRegression\n",
    "import json"
   ]
  },
  {
   "cell_type": "code",
   "execution_count": 2,
   "id": "d64fdabc",
   "metadata": {},
   "outputs": [],
   "source": [
    "def preprocess(trainDF, testDF):\n",
    "    scaler = StandardScaler()\n",
    "    trainDF = scaler.fit_transform(trainDF)\n",
    "    testDF = scaler.fit_transform(testDF)\n",
    "    return trainDF, testDF"
   ]
  },
  {
   "cell_type": "code",
   "execution_count": 3,
   "id": "7237e9e5",
   "metadata": {},
   "outputs": [],
   "source": [
    "def eval_gridsearch(clf, pgrid, xTrain, yTrain, xTest, yTest):\n",
    "\n",
    "    cv = GridSearchCV(clf, param_grid=pgrid, cv=10)\n",
    "    cv.fit(xTrain, yTrain)\n",
    "\n",
    "    clf = cv.best_estimator_\n",
    "    best_params = cv.best_params_\n",
    "\n",
    "    yHat = cv.predict(xTest)\n",
    "    yHat_proba = cv.predict_proba(xTest)[:,1]\n",
    "\n",
    "    auc = roc_auc_score(yTest, yHat_proba)\n",
    "\n",
    "    auprc = average_precision_score(yTest, yHat_proba)\n",
    "\n",
    "    f1 = f1_score(yTest, yHat)\n",
    "\n",
    "    fpr, tpr, _ = roc_curve(yTest, yHat_proba)\n",
    "\n",
    "    return {'AUC': auc, 'AUPRC': auprc, 'F1': f1}, {'fpr': fpr, 'tpr': tpr}, best_params\n"
   ]
  },
  {
   "cell_type": "code",
   "execution_count": 4,
   "id": "103ff41a",
   "metadata": {},
   "outputs": [],
   "source": [
    "def eval_randomsearch(clf, pgrid, xTrain, yTrain, xTest, yTest):\n",
    "    permutations = np.prod([len(v) for v in pgrid.values()])\n",
    "\n",
    "    cv = RandomizedSearchCV(clf, param_distributions=pgrid, n_iter=int(permutations*0.33), cv=10)\n",
    "    cv.fit(xTrain, yTrain)\n",
    "\n",
    "    clf = cv.best_estimator_\n",
    "    best_params = cv.best_params_\n",
    "\n",
    "    yHat = cv.predict(xTest)\n",
    "    yHat_proba = cv.predict_proba(xTest)[:,1]\n",
    "\n",
    "    auc = roc_auc_score(yTest, yHat_proba)\n",
    "\n",
    "    auprc = average_precision_score(yTest, yHat_proba)\n",
    "\n",
    "    f1 = f1_score(yTest, yHat)\n",
    "\n",
    "    fpr, tpr, _ = roc_curve(yTest, yHat_proba)\n",
    "\n",
    "    return {'AUC': auc, 'AUPRC': auprc, 'F1': f1}, {'fpr': fpr, 'tpr': tpr}, best_params\n"
   ]
  },
  {
   "cell_type": "code",
   "execution_count": 5,
   "id": "32972202",
   "metadata": {},
   "outputs": [],
   "source": [
    "def get_parameter_grid(mName):\n",
    "    if mName == 'LR (None)':\n",
    "        return {'C': [0.001, 0.01, 0.1, 1, 10, 100, 1000], 'tol': [0.0001, 0.0004]}\n",
    "    elif mName == 'LR (L1)':\n",
    "        return {'C': [0.001, 0.01, 0.1, 1, 10, 100, 1000], 'tol': [0.0001, 0.0004]}\n",
    "    elif mName == 'LR (L2)':\n",
    "        return {'C': [0.001, 0.01, 0.1, 1, 10, 100, 1000], 'tol': [0.0001, 0.0004]}\n"
   ]
  },
  {
   "cell_type": "code",
   "execution_count": 6,
   "id": "896c807f",
   "metadata": {},
   "outputs": [],
   "source": [
    "def eval_searchcv(clfName, clf, clfGrid,\n",
    "                  xTrain, yTrain, xTest, yTest,\n",
    "                  perfDict, rocDF, bestParamDict):\n",
    "    # evaluate grid search and add to perfDict\n",
    "    cls_perf, cls_roc, gs_p  = eval_gridsearch(clf, clfGrid, xTrain,\n",
    "                                               yTrain, xTest, yTest)\n",
    "    perfDict[clfName + \" (Grid)\"] = cls_perf\n",
    "    # add to ROC DF\n",
    "    rocRes = pd.DataFrame(cls_roc)\n",
    "    rocRes[\"model\"] = clfName\n",
    "    rocDF = pd.concat([rocDF, rocRes], ignore_index=True)\n",
    "    # evaluate random search and add to perfDict\n",
    "    clfr_perf, _, rs_p  = eval_randomsearch(clf, clfGrid, xTrain,\n",
    "                                            yTrain, xTest, yTest)\n",
    "    perfDict[clfName + \" (Random)\"] = clfr_perf\n",
    "    bestParamDict[clfName] = {\"Grid\": gs_p, \"Random\": rs_p}\n",
    "    return perfDict, rocDF, bestParamDict"
   ]
  },
  {
   "cell_type": "code",
<<<<<<< HEAD
   "execution_count": 178,
=======
   "execution_count": 7,
>>>>>>> 53960f4b2eb2226059a82ba2e862219d9f33f615
   "id": "145fe63f",
   "metadata": {},
   "outputs": [],
   "source": [
    "def main():\n",
    "    df = pd.read_csv(\"Models/Data/data.csv\")\n",
    "\n",
    "    # make classes\n",
    "    X = df.drop(columns=['close', 'otc'])\n",
    "    y = pd.DataFrame(columns=['price'])\n",
    "    for i, row in df.iterrows():\n",
    "        if row['close'] - row['open'] > 0:\n",
    "            y.loc[i] = 1 # increase\n",
    "        else:\n",
    "            y.loc[i] = 0 # decrease\n",
    "\n",
    "    y = y.to_numpy().flatten()\n",
    "\n",
    "    xTrain, xTest, yTrain, yTest = train_test_split(X, y, test_size=0.2)\n",
    "    \n",
    "    xTrain, xTest = preprocess(xTrain, xTest)\n",
    "\n",
    "    perfDict = {}\n",
    "    rocDF = pd.DataFrame()\n",
    "    bestParamDict = {}\n",
    "\n",
    "    print(\"Tuning Unregularized Logistic Regression --------\")\n",
    "    # logistic regression (unregularized)\n",
    "    unregLrName = \"LR (None)\"\n",
    "    unregLrGrid = get_parameter_grid(unregLrName)\n",
    "    # fill in\n",
    "    lrClf = LogisticRegression()\n",
    "    perfDict, rocDF, bestParamDict = eval_searchcv(unregLrName, lrClf, unregLrGrid,\n",
    "                                                   xTrain, yTrain, xTest, yTest,\n",
    "                                                   perfDict, rocDF, bestParamDict)\n",
    "    # logistic regression (L1)\n",
    "    print(\"Tuning Logistic Regression (Lasso) --------\")\n",
    "    lassoLrName = \"LR (L1)\"\n",
    "    lassoLrGrid = get_parameter_grid(lassoLrName)\n",
    "    # fill in\n",
    "    lassoClf = LogisticRegression(penalty='l1', solver='liblinear', max_iter=300)\n",
    "    perfDict, rocDF, bestParamDict = eval_searchcv(lassoLrName, lassoClf, lassoLrGrid,\n",
    "                                                   xTrain, yTrain, xTest, yTest,\n",
    "                                                   perfDict, rocDF, bestParamDict)\n",
    "    # Logistic regression (L2)\n",
    "    print(\"Tuning Logistic Regression (Ridge) --------\")\n",
    "    ridgeLrName = \"LR (L2)\"\n",
    "    ridgeLrGrid = get_parameter_grid(ridgeLrName)\n",
    "    # fill in\n",
    "    ridgeClf = LogisticRegression(penalty='l2')\n",
    "    perfDict, rocDF, bestParamDict = eval_searchcv(ridgeLrName, ridgeClf, ridgeLrGrid,\n",
    "                                                   xTrain, yTrain, xTest, yTest,\n",
    "                                                   perfDict, rocDF, bestParamDict)\n",
    "\n",
    "    perfDF = pd.DataFrame.from_dict(perfDict, orient='index')\n",
    "    print(perfDF)\n",
    "    # save roc curves to data\n",
    "    rocDF.to_csv('out', index=False)\n",
    "    # store the best parameters\n",
    "    with open('best', 'w') as f:\n",
    "        json.dump(bestParamDict, f)"
   ]
  },
  {
   "cell_type": "code",
   "execution_count": 8,
   "id": "069f3e88",
   "metadata": {},
   "outputs": [],
   "source": [
    "def holdout(model, xFeat, y, testSize):\n",
    "    xTrain, xTest, yTrain, yTest = train_test_split(xFeat, y, test_size=testSize)\n",
    "    resultDict = eval_randomsearch(model, xTrain, yTrain, xTest, yTest)\n",
    "    return resultDict"
   ]
  },
  {
   "cell_type": "code",
<<<<<<< HEAD
   "execution_count": 180,
=======
   "execution_count": 11,
>>>>>>> 53960f4b2eb2226059a82ba2e862219d9f33f615
   "id": "97b95a57",
   "metadata": {},
   "outputs": [
    {
<<<<<<< HEAD
     "name": "stdout",
     "output_type": "stream",
     "text": [
      "Tuning Unregularized Logistic Regression --------\n",
      "Tuning Logistic Regression (Lasso) --------\n"
     ]
    },
    {
     "name": "stderr",
     "output_type": "stream",
     "text": [
      "c:\\Users\\thoma\\anaconda3\\envs\\CS334\\Lib\\site-packages\\sklearn\\svm\\_base.py:1249: ConvergenceWarning: Liblinear failed to converge, increase the number of iterations.\n",
      "  warnings.warn(\n"
     ]
    },
    {
     "name": "stdout",
     "output_type": "stream",
     "text": [
      "Tuning Logistic Regression (Ridge) --------\n",
      "                         AUC     AUPRC        F1\n",
      "LR (None) (Grid)    0.913110  0.885321  0.828571\n",
      "LR (None) (Random)  0.913110  0.885321  0.828571\n",
      "LR (L1) (Grid)      0.919970  0.878247  0.823529\n",
      "LR (L1) (Random)    0.914634  0.845426  0.788732\n",
      "LR (L2) (Grid)      0.913110  0.885321  0.828571\n",
      "LR (L2) (Random)    0.919970  0.913593  0.805970\n"
=======
     "ename": "KeyError",
     "evalue": "\"['close', 'otc'] not found in axis\"",
     "output_type": "error",
     "traceback": [
      "\u001b[1;31m---------------------------------------------------------------------------\u001b[0m",
      "\u001b[1;31mKeyError\u001b[0m                                  Traceback (most recent call last)",
      "Cell \u001b[1;32mIn[11], line 1\u001b[0m\n\u001b[1;32m----> 1\u001b[0m \u001b[43mmain\u001b[49m\u001b[43m(\u001b[49m\u001b[43m)\u001b[49m\n",
      "Cell \u001b[1;32mIn[7], line 5\u001b[0m, in \u001b[0;36mmain\u001b[1;34m()\u001b[0m\n\u001b[0;32m      2\u001b[0m df \u001b[38;5;241m=\u001b[39m pd\u001b[38;5;241m.\u001b[39mread_csv(\u001b[38;5;124m\"\u001b[39m\u001b[38;5;124mModels/Data/data.csv\u001b[39m\u001b[38;5;124m\"\u001b[39m)\n\u001b[0;32m      4\u001b[0m \u001b[38;5;66;03m# make classes\u001b[39;00m\n\u001b[1;32m----> 5\u001b[0m X \u001b[38;5;241m=\u001b[39m \u001b[43mdf\u001b[49m\u001b[38;5;241;43m.\u001b[39;49m\u001b[43mdrop\u001b[49m\u001b[43m(\u001b[49m\u001b[43mcolumns\u001b[49m\u001b[38;5;241;43m=\u001b[39;49m\u001b[43m[\u001b[49m\u001b[38;5;124;43m'\u001b[39;49m\u001b[38;5;124;43mclose\u001b[39;49m\u001b[38;5;124;43m'\u001b[39;49m\u001b[43m,\u001b[49m\u001b[43m \u001b[49m\u001b[38;5;124;43m'\u001b[39;49m\u001b[38;5;124;43motc\u001b[39;49m\u001b[38;5;124;43m'\u001b[39;49m\u001b[43m]\u001b[49m\u001b[43m)\u001b[49m\n\u001b[0;32m      6\u001b[0m y \u001b[38;5;241m=\u001b[39m pd\u001b[38;5;241m.\u001b[39mDataFrame(columns\u001b[38;5;241m=\u001b[39m[\u001b[38;5;124m'\u001b[39m\u001b[38;5;124mprice\u001b[39m\u001b[38;5;124m'\u001b[39m])\n\u001b[0;32m      7\u001b[0m \u001b[38;5;28;01mfor\u001b[39;00m i, row \u001b[38;5;129;01min\u001b[39;00m df\u001b[38;5;241m.\u001b[39miterrows():\n",
      "File \u001b[1;32mc:\\Users\\JackZ\\AppData\\Local\\Programs\\Python\\Python312\\Lib\\site-packages\\pandas\\core\\frame.py:5581\u001b[0m, in \u001b[0;36mDataFrame.drop\u001b[1;34m(self, labels, axis, index, columns, level, inplace, errors)\u001b[0m\n\u001b[0;32m   5433\u001b[0m \u001b[38;5;28;01mdef\u001b[39;00m\u001b[38;5;250m \u001b[39m\u001b[38;5;21mdrop\u001b[39m(\n\u001b[0;32m   5434\u001b[0m     \u001b[38;5;28mself\u001b[39m,\n\u001b[0;32m   5435\u001b[0m     labels: IndexLabel \u001b[38;5;241m|\u001b[39m \u001b[38;5;28;01mNone\u001b[39;00m \u001b[38;5;241m=\u001b[39m \u001b[38;5;28;01mNone\u001b[39;00m,\n\u001b[1;32m   (...)\u001b[0m\n\u001b[0;32m   5442\u001b[0m     errors: IgnoreRaise \u001b[38;5;241m=\u001b[39m \u001b[38;5;124m\"\u001b[39m\u001b[38;5;124mraise\u001b[39m\u001b[38;5;124m\"\u001b[39m,\n\u001b[0;32m   5443\u001b[0m ) \u001b[38;5;241m-\u001b[39m\u001b[38;5;241m>\u001b[39m DataFrame \u001b[38;5;241m|\u001b[39m \u001b[38;5;28;01mNone\u001b[39;00m:\n\u001b[0;32m   5444\u001b[0m \u001b[38;5;250m    \u001b[39m\u001b[38;5;124;03m\"\"\"\u001b[39;00m\n\u001b[0;32m   5445\u001b[0m \u001b[38;5;124;03m    Drop specified labels from rows or columns.\u001b[39;00m\n\u001b[0;32m   5446\u001b[0m \n\u001b[1;32m   (...)\u001b[0m\n\u001b[0;32m   5579\u001b[0m \u001b[38;5;124;03m            weight  1.0     0.8\u001b[39;00m\n\u001b[0;32m   5580\u001b[0m \u001b[38;5;124;03m    \"\"\"\u001b[39;00m\n\u001b[1;32m-> 5581\u001b[0m     \u001b[38;5;28;01mreturn\u001b[39;00m \u001b[38;5;28;43msuper\u001b[39;49m\u001b[43m(\u001b[49m\u001b[43m)\u001b[49m\u001b[38;5;241;43m.\u001b[39;49m\u001b[43mdrop\u001b[49m\u001b[43m(\u001b[49m\n\u001b[0;32m   5582\u001b[0m \u001b[43m        \u001b[49m\u001b[43mlabels\u001b[49m\u001b[38;5;241;43m=\u001b[39;49m\u001b[43mlabels\u001b[49m\u001b[43m,\u001b[49m\n\u001b[0;32m   5583\u001b[0m \u001b[43m        \u001b[49m\u001b[43maxis\u001b[49m\u001b[38;5;241;43m=\u001b[39;49m\u001b[43maxis\u001b[49m\u001b[43m,\u001b[49m\n\u001b[0;32m   5584\u001b[0m \u001b[43m        \u001b[49m\u001b[43mindex\u001b[49m\u001b[38;5;241;43m=\u001b[39;49m\u001b[43mindex\u001b[49m\u001b[43m,\u001b[49m\n\u001b[0;32m   5585\u001b[0m \u001b[43m        \u001b[49m\u001b[43mcolumns\u001b[49m\u001b[38;5;241;43m=\u001b[39;49m\u001b[43mcolumns\u001b[49m\u001b[43m,\u001b[49m\n\u001b[0;32m   5586\u001b[0m \u001b[43m        \u001b[49m\u001b[43mlevel\u001b[49m\u001b[38;5;241;43m=\u001b[39;49m\u001b[43mlevel\u001b[49m\u001b[43m,\u001b[49m\n\u001b[0;32m   5587\u001b[0m \u001b[43m        \u001b[49m\u001b[43minplace\u001b[49m\u001b[38;5;241;43m=\u001b[39;49m\u001b[43minplace\u001b[49m\u001b[43m,\u001b[49m\n\u001b[0;32m   5588\u001b[0m \u001b[43m        \u001b[49m\u001b[43merrors\u001b[49m\u001b[38;5;241;43m=\u001b[39;49m\u001b[43merrors\u001b[49m\u001b[43m,\u001b[49m\n\u001b[0;32m   5589\u001b[0m \u001b[43m    \u001b[49m\u001b[43m)\u001b[49m\n",
      "File \u001b[1;32mc:\\Users\\JackZ\\AppData\\Local\\Programs\\Python\\Python312\\Lib\\site-packages\\pandas\\core\\generic.py:4788\u001b[0m, in \u001b[0;36mNDFrame.drop\u001b[1;34m(self, labels, axis, index, columns, level, inplace, errors)\u001b[0m\n\u001b[0;32m   4786\u001b[0m \u001b[38;5;28;01mfor\u001b[39;00m axis, labels \u001b[38;5;129;01min\u001b[39;00m axes\u001b[38;5;241m.\u001b[39mitems():\n\u001b[0;32m   4787\u001b[0m     \u001b[38;5;28;01mif\u001b[39;00m labels \u001b[38;5;129;01mis\u001b[39;00m \u001b[38;5;129;01mnot\u001b[39;00m \u001b[38;5;28;01mNone\u001b[39;00m:\n\u001b[1;32m-> 4788\u001b[0m         obj \u001b[38;5;241m=\u001b[39m \u001b[43mobj\u001b[49m\u001b[38;5;241;43m.\u001b[39;49m\u001b[43m_drop_axis\u001b[49m\u001b[43m(\u001b[49m\u001b[43mlabels\u001b[49m\u001b[43m,\u001b[49m\u001b[43m \u001b[49m\u001b[43maxis\u001b[49m\u001b[43m,\u001b[49m\u001b[43m \u001b[49m\u001b[43mlevel\u001b[49m\u001b[38;5;241;43m=\u001b[39;49m\u001b[43mlevel\u001b[49m\u001b[43m,\u001b[49m\u001b[43m \u001b[49m\u001b[43merrors\u001b[49m\u001b[38;5;241;43m=\u001b[39;49m\u001b[43merrors\u001b[49m\u001b[43m)\u001b[49m\n\u001b[0;32m   4790\u001b[0m \u001b[38;5;28;01mif\u001b[39;00m inplace:\n\u001b[0;32m   4791\u001b[0m     \u001b[38;5;28mself\u001b[39m\u001b[38;5;241m.\u001b[39m_update_inplace(obj)\n",
      "File \u001b[1;32mc:\\Users\\JackZ\\AppData\\Local\\Programs\\Python\\Python312\\Lib\\site-packages\\pandas\\core\\generic.py:4830\u001b[0m, in \u001b[0;36mNDFrame._drop_axis\u001b[1;34m(self, labels, axis, level, errors, only_slice)\u001b[0m\n\u001b[0;32m   4828\u001b[0m         new_axis \u001b[38;5;241m=\u001b[39m axis\u001b[38;5;241m.\u001b[39mdrop(labels, level\u001b[38;5;241m=\u001b[39mlevel, errors\u001b[38;5;241m=\u001b[39merrors)\n\u001b[0;32m   4829\u001b[0m     \u001b[38;5;28;01melse\u001b[39;00m:\n\u001b[1;32m-> 4830\u001b[0m         new_axis \u001b[38;5;241m=\u001b[39m \u001b[43maxis\u001b[49m\u001b[38;5;241;43m.\u001b[39;49m\u001b[43mdrop\u001b[49m\u001b[43m(\u001b[49m\u001b[43mlabels\u001b[49m\u001b[43m,\u001b[49m\u001b[43m \u001b[49m\u001b[43merrors\u001b[49m\u001b[38;5;241;43m=\u001b[39;49m\u001b[43merrors\u001b[49m\u001b[43m)\u001b[49m\n\u001b[0;32m   4831\u001b[0m     indexer \u001b[38;5;241m=\u001b[39m axis\u001b[38;5;241m.\u001b[39mget_indexer(new_axis)\n\u001b[0;32m   4833\u001b[0m \u001b[38;5;66;03m# Case for non-unique axis\u001b[39;00m\n\u001b[0;32m   4834\u001b[0m \u001b[38;5;28;01melse\u001b[39;00m:\n",
      "File \u001b[1;32mc:\\Users\\JackZ\\AppData\\Local\\Programs\\Python\\Python312\\Lib\\site-packages\\pandas\\core\\indexes\\base.py:7070\u001b[0m, in \u001b[0;36mIndex.drop\u001b[1;34m(self, labels, errors)\u001b[0m\n\u001b[0;32m   7068\u001b[0m \u001b[38;5;28;01mif\u001b[39;00m mask\u001b[38;5;241m.\u001b[39many():\n\u001b[0;32m   7069\u001b[0m     \u001b[38;5;28;01mif\u001b[39;00m errors \u001b[38;5;241m!=\u001b[39m \u001b[38;5;124m\"\u001b[39m\u001b[38;5;124mignore\u001b[39m\u001b[38;5;124m\"\u001b[39m:\n\u001b[1;32m-> 7070\u001b[0m         \u001b[38;5;28;01mraise\u001b[39;00m \u001b[38;5;167;01mKeyError\u001b[39;00m(\u001b[38;5;124mf\u001b[39m\u001b[38;5;124m\"\u001b[39m\u001b[38;5;132;01m{\u001b[39;00mlabels[mask]\u001b[38;5;241m.\u001b[39mtolist()\u001b[38;5;132;01m}\u001b[39;00m\u001b[38;5;124m not found in axis\u001b[39m\u001b[38;5;124m\"\u001b[39m)\n\u001b[0;32m   7071\u001b[0m     indexer \u001b[38;5;241m=\u001b[39m indexer[\u001b[38;5;241m~\u001b[39mmask]\n\u001b[0;32m   7072\u001b[0m \u001b[38;5;28;01mreturn\u001b[39;00m \u001b[38;5;28mself\u001b[39m\u001b[38;5;241m.\u001b[39mdelete(indexer)\n",
      "\u001b[1;31mKeyError\u001b[0m: \"['close', 'otc'] not found in axis\""
>>>>>>> 53960f4b2eb2226059a82ba2e862219d9f33f615
     ]
    }
   ],
   "source": [
    "main()"
   ]
  },
  {
   "cell_type": "code",
   "execution_count": null,
   "id": "12c10fc9",
   "metadata": {},
   "outputs": [],
   "source": [
    "lr = LogisticRegression()"
   ]
  }
 ],
 "metadata": {
  "kernelspec": {
   "display_name": "Python 3",
   "language": "python",
   "name": "python3"
  },
  "language_info": {
   "codemirror_mode": {
    "name": "ipython",
    "version": 3
   },
   "file_extension": ".py",
   "mimetype": "text/x-python",
   "name": "python",
   "nbconvert_exporter": "python",
   "pygments_lexer": "ipython3",
   "version": "3.12.0"
  }
 },
 "nbformat": 4,
 "nbformat_minor": 5
}
